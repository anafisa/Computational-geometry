{
 "cells": [
  {
   "cell_type": "code",
   "execution_count": null,
   "metadata": {},
   "outputs": [],
   "source": [
    "from math import *\n",
    "class Vector3:\n",
    "    def __init__(self, x, y, z):\n",
    "        self.x = x\n",
    "        self.y = y\n",
    "        self.z = z\n",
    "         \n",
    "    def __str__(self):\n",
    "        return \"({:.2f}, {:.2f}, {:.2f})\".format(self.x, self.y, self.z)\n",
    "    \n",
    "    def len(self):\n",
    "        return (self.x**2+self.y**2+self.z**2)**(1/2)\n",
    "    \n",
    "    def norm(self):\n",
    "        l = self.len()\n",
    "        if l == 0:\n",
    "            return Vector3(0, 0, 0)\n",
    "        return Vector3(self.x/l,self.y/l,self.z/l)\n",
    "    \n",
    "    def xR(self, n):\n",
    "        return Vector3(self.x*n,self.y*n,self.z*n)\n",
    "    \n",
    "    def plusV(self, vec):\n",
    "        return Vector3(self.x+vec.x, self.y+vec.y, self.z+vec.z)\n",
    "    \n",
    "    def minusV(self, vec):\n",
    "        return Vector3(self.x-vec.x, self.y-vec.y, self.z-vec.z)\n",
    "    \n",
    "    def dotV(self, vec):\n",
    "        return self.x*vec.x + self.y*vec.y + self.z*vec.z\n",
    "    \n",
    "    def xV(self, vec):\n",
    "        x = self.y*vec.z - self.z*vec.y\n",
    "        y = self.z*vec.x - self.x*vec.z\n",
    "        z = self.x*vec.y - self.y*vec.x\n",
    "        return Vector3(x, y, z)\n",
    "    \n",
    "class Matrix3x3:\n",
    "    \n",
    "    def __init__(self, a, b, c):\n",
    "        self.a = a\n",
    "        self.b = b\n",
    "        self.c = c\n",
    "        self.col1 = Vector3(a.x, b.x, c.x)\n",
    "        self.col2 = Vector3(a.y, b.y, c.y)\n",
    "        self.col3 = Vector3(a.z, b.z, c.z)\n",
    "        \n",
    "        \n",
    "    def __str__(self):\n",
    "        return \"({},\\n {},\\n {})\".format(self.a, self.b, self.c)\n",
    "    \n",
    "    def I():\n",
    "        a = Vector3(1, 0, 0)\n",
    "        b = Vector3(0, 1, 0)\n",
    "        c = Vector3(0, 0, 1)\n",
    "        return Matrix3x3(a, b, c)\n",
    "    \n",
    "    def xR(self, n):\n",
    "        return Matrix3x3(Vector3.xR(self.a,n),Vector3.xR(self.b,n),Vector3.xR(self.c,n))\n",
    "    \n",
    "    def plusM(self, matrix):\n",
    "        return Matrix3x3(Vector3.plusV(self.a, matrix.a),Vector3.plusV(self.b,matrix.b),Vector3.plusV(self.c,matrix.c))\n",
    "    \n",
    "    def minusM(self, matrix):\n",
    "        return Matrix3x3(Vector3.minusV(self.a, matrix.a),Vector3.minusV(self.b,matrix.b),Vector3.minusV(self.c,matrix.c))\n",
    "        \n",
    "    def xV(self, vec):\n",
    "        return Vector3(Vector3.dotV(self.a,vec),Vector3.dotV(self.b,vec),Vector3.dotV(self.c,vec))\n",
    "        \n",
    "    def xM(self, matrix):\n",
    "        v1 = Vector3(self.a.dotV(matrix.col1),self.a.dotV(matrix.col2),self.a.dotV(matrix.col3))\n",
    "        v2 = Vector3(self.b.dotV(matrix.col1),self.b.dotV(matrix.col2),self.b.dotV(matrix.col3))\n",
    "        v3 = Vector3(self.c.dotV(matrix.col1),self.c.dotV(matrix.col2),self.c.dotV(matrix.col3))\n",
    "        return Matrix3x3(v1, v2, v3)\n",
    "    \n",
    "    @staticmethod\n",
    "    def MRot(vec, ang):\n",
    "        s = Matrix3x3(Vector3(0,vec.z,-vec.y),Vector3(-vec.z, 0, vec.x),Vector3(vec.y, -vec.x,0))\n",
    "        return Matrix3x3.I().plusM(s.xR(sin(ang))).plusM(s.xM(s).xR(1 - cos(ang)))"
   ]
  },
  {
   "cell_type": "code",
   "execution_count": null,
   "metadata": {},
   "outputs": [],
   "source": [
    "vec1 = Vector3(2.15, 3.64, 6.26)\n",
    "vec2 = Vector3(73.25, -45.3, 6.13)\n",
    "vec3 = Vector3(5.89, -2.25, 6.36)\n",
    "vec = Vector3(2.672, -78.263, 3.236)\n",
    "str(vec1.xV(vec2))"
   ]
  },
  {
   "cell_type": "code",
   "execution_count": null,
   "metadata": {},
   "outputs": [],
   "source": [
    "v1 = Vector3(26.672, -3478.263, 23.236)\n",
    "v2 = Vector3(-346.37, 874.347, -734.63)\n",
    "v3 = Vector3(457.27, 9283.36, -27.2678)"
   ]
  },
  {
   "cell_type": "code",
   "execution_count": null,
   "metadata": {},
   "outputs": [],
   "source": [
    "m1 = Matrix3x3(vec1,vec2,vec3)\n",
    "m2 = Matrix3x3(v1,v2,v3)\n",
    "str(m1.xM(m2))"
   ]
  },
  {
   "cell_type": "code",
   "execution_count": null,
   "metadata": {},
   "outputs": [],
   "source": [
    "print(str(Matrix3x3(vec1,vec2,vec3)))"
   ]
  },
  {
   "cell_type": "code",
   "execution_count": null,
   "metadata": {},
   "outputs": [],
   "source": [
    "vec = Vector3(1,0,0)\n",
    "n = 3.1415926"
   ]
  },
  {
   "cell_type": "code",
   "execution_count": null,
   "metadata": {},
   "outputs": [],
   "source": [
    "str(Matrix3x3.MRot(vec,n))"
   ]
  }
 ],
 "metadata": {
  "kernelspec": {
   "display_name": "Python 3",
   "language": "python",
   "name": "python3"
  },
  "language_info": {
   "codemirror_mode": {
    "name": "ipython",
    "version": 3
   },
   "file_extension": ".py",
   "mimetype": "text/x-python",
   "name": "python",
   "nbconvert_exporter": "python",
   "pygments_lexer": "ipython3",
   "version": "3.7.4"
  }
 },
 "nbformat": 4,
 "nbformat_minor": 2
}
